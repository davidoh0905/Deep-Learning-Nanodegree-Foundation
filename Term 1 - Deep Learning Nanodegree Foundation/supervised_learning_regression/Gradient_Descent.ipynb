{
 "cells": [
  {
   "cell_type": "markdown",
   "metadata": {},
   "source": [
    "# Linear Regression\n",
    "\n",
    "- prove mathematically that two variables have relationship\n",
    "- how do we know what that line of best fit is? what the linear regression is?\n",
    "- use gradient descent\n",
    "- draw a random line\n",
    "- compute that error\n",
    "\n",
    "\n"
   ]
  },
  {
   "cell_type": "markdown",
   "metadata": {},
   "source": [
    "## gradient descent is THE OPTIMIZATION METHOD for deep neural networks\n",
    "- review the codes\n",
    "- study gradient descent, learning rate\n",
    "- what is genfromtxt?\n",
    "- most of all, never do too much. just as much as I can enjoy this."
   ]
  },
  {
   "cell_type": "code",
   "execution_count": 13,
   "metadata": {
    "collapsed": false
   },
   "outputs": [
    {
     "name": "stdout",
     "output_type": "stream",
     "text": [
      "starting gradient descent at b=0, m=0, error = 5565.107834483211\n",
      "After 1000 iterations, ending point at b=9.451159314734957e+173, m=-4.808747047443573e+175, error=inf\n"
     ]
    },
    {
     "name": "stderr",
     "output_type": "stream",
     "text": [
      "C:\\Users\\t_ohd\\AppData\\Local\\Continuum\\Anaconda3\\lib\\site-packages\\ipykernel\\__main__.py:11: RuntimeWarning: overflow encountered in double_scalars\n"
     ]
    }
   ],
   "source": [
    "from numpy import *\n",
    "\n",
    "def compute_error_for_line_given_points(b, m, points):\n",
    "    totalError = 0\n",
    "    #for every point\n",
    "    for i in range(0, len(points)): # for every data points\n",
    "        x = points[i, 0]\n",
    "        y = points[i, 1]\n",
    "        \n",
    "        # compute the distance : get the difference, square, add it to the totalError\n",
    "        totalError += (y-(m*x + b))**2\n",
    "    # get the average\n",
    "    return totalError / float(len(points))\n",
    "\n",
    "# error is our compass. telling us how bad your line is. you want to constantly make it better\n",
    "# make me smaller and smaller\n",
    "\n",
    "def gradient_descent_runner(points, starting_b, starting_m, learning_rate, num_iterations):\n",
    "    # starting b and m\n",
    "    b = starting_b\n",
    "    m = starting_m\n",
    "    \n",
    "    # gradient descent\n",
    "    for i in range(num_iterations):\n",
    "        # update b and m with new more accurate b and m  by performing \n",
    "        # this gradient step. given current b and m \n",
    "        b, m = step_gradient(b, m, array(points), learning_rate)\n",
    "    return [b, m]\n",
    "\n",
    "# magic, the greatest the greatest\n",
    "\n",
    "# gradient descent is basically a search policy\n",
    "# finding the minimum error value\n",
    "# we can do that by taking partial derivative of b and m : we call it partial because it is not telling us the whole story\n",
    "# we are going to sum up all the partial derivative for all of our points\n",
    "# http://mathinsight.org/image/partial_derivative_as_slope\n",
    "\n",
    "\n",
    "def step_gradient(b_current, m_current, points, learningRate):\n",
    "    \n",
    "    # starting points for our gradients\n",
    "    b_gradient = 0\n",
    "    m_gradient = 0\n",
    "    N = float(len(points))\n",
    "    \n",
    "    for i in range(0, len(points)):\n",
    "        x = points[i,0]\n",
    "        y = points[i,1]\n",
    "        # direction with respect to b and m\n",
    "        # computing partial derivatives of our error function\n",
    "        b_gradient += -(2/N)*(y-((m_current*x)+b_current))\n",
    "        m_gradient += (2/N)* x * (y - ((m_current * x) + b_current))\n",
    "        \n",
    "    # update our b and m values using our partial derivatives\n",
    "    new_b = b_current - (learningRate * b_gradient)\n",
    "    new_m = m_current - (learningRate * m_gradient)\n",
    "    return [new_b, new_m]\n",
    "        \n",
    "        \n",
    "\n",
    "def run():\n",
    "    #Step 1 - collect our data\n",
    "    points = genfromtxt('data.csv', delimiter=',')\n",
    "        \n",
    "    #Step 2 - define our hyperparameters\n",
    "        # tuning nuts for our models. how fast should our model converge : converge : optimal model\n",
    "        # how our model is analyzing our data. what ops to perform and all that..\n",
    "    learning_rate =0.0001\n",
    "    # y = mx + b\n",
    "    initial_b = 0\n",
    "    initial_m = 0\n",
    "    num_iterations = 1000\n",
    "    \n",
    "    #Step 3 - train our model\n",
    "    print ('starting gradient descent at b={0}, m={1}, error = {2}'\\\n",
    "           .format(initial_b, initial_m, compute_error_for_line_given_points(initial_b, initial_m, points)))\n",
    "    [b,m] = gradient_descent_runner(points, initial_b, initial_m, learning_rate, num_iterations)\n",
    "    \n",
    "    print ('After {0} iterations, ending point at b={1}, m={2}, error={3}'\\\n",
    "           .format(num_iterations, b, m,compute_error_for_line_given_points(b, m, points)))\n",
    "    \n",
    "run()\n",
    "    \n",
    "# if __name__ == '__main__':"
   ]
  },
  {
   "cell_type": "code",
   "execution_count": 14,
   "metadata": {
    "collapsed": false
   },
   "outputs": [],
   "source": [
    "points = genfromtxt('data.csv', delimiter=',')"
   ]
  },
  {
   "cell_type": "code",
   "execution_count": null,
   "metadata": {
    "collapsed": true
   },
   "outputs": [],
   "source": []
  }
 ],
 "metadata": {
  "kernelspec": {
   "display_name": "Python [conda root]",
   "language": "python",
   "name": "conda-root-py"
  },
  "language_info": {
   "codemirror_mode": {
    "name": "ipython",
    "version": 3
   },
   "file_extension": ".py",
   "mimetype": "text/x-python",
   "name": "python",
   "nbconvert_exporter": "python",
   "pygments_lexer": "ipython3",
   "version": "3.5.2"
  }
 },
 "nbformat": 4,
 "nbformat_minor": 1
}
